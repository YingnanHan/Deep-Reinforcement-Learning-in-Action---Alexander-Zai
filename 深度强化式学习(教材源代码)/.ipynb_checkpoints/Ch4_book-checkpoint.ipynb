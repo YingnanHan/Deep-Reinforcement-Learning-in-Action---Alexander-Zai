{
 "cells": [
  {
   "cell_type": "markdown",
   "metadata": {},
   "source": [
    "# Chapter 4 - Policy Gradient Methods"
   ]
  },
  {
   "cell_type": "code",
   "execution_count": 1,
   "metadata": {},
   "outputs": [],
   "source": [
    "import numpy as np\n",
    "import torch\n",
    "import gym\n",
    "from matplotlib import pyplot as plt"
   ]
  },
  {
   "cell_type": "code",
   "execution_count": 2,
   "metadata": {},
   "outputs": [],
   "source": [
    "def running_mean(x, N=50):\n",
    "    kernel = np.ones(N)\n",
    "    conv_len = x.shape[0]-N\n",
    "    y = np.zeros(conv_len)\n",
    "    for i in range(conv_len):\n",
    "        y[i] = kernel @ x[i:i+N]\n",
    "        y[i] /= N\n",
    "    return y"
   ]
  },
  {
   "cell_type": "code",
   "execution_count": 3,
   "metadata": {},
   "outputs": [],
   "source": [
    "env = gym.make(\"CartPole-v0\")"
   ]
  },
  {
   "cell_type": "markdown",
   "metadata": {},
   "source": [
    "##### Listing 4.4"
   ]
  },
  {
   "cell_type": "code",
   "execution_count": 4,
   "metadata": {},
   "outputs": [],
   "source": [
    "import gym\n",
    "import numpy as np\n",
    "import torch\n",
    "\n",
    "l1 = 4 #A\n",
    "l2 = 150\n",
    "l3 = 2 #B\n",
    "\n",
    "model = torch.nn.Sequential(\n",
    "    torch.nn.Linear(l1, l2),\n",
    "    torch.nn.LeakyReLU(),\n",
    "    torch.nn.Linear(l2, l3),\n",
    "    torch.nn.Softmax(dim=0) #C\n",
    ")\n",
    "\n",
    "learning_rate = 0.009\n",
    "optimizer = torch.optim.Adam(model.parameters(), lr=learning_rate)\n",
    "\n",
    "#A Input data is length 4\n",
    "#B Output is a 2-length vector for the Left and the Right actions\n",
    "#C Output is a softmax probability distribution over actions"
   ]
  },
  {
   "cell_type": "markdown",
   "metadata": {},
   "source": [
    "##### Listing 4.5"
   ]
  },
  {
   "cell_type": "code",
   "execution_count": 5,
   "metadata": {},
   "outputs": [],
   "source": [
    "state1 = env.reset()\n",
    "pred = model(torch.from_numpy(state1).float()) #G\n",
    "action = np.random.choice(np.array([0,1]), p=pred.data.numpy()) #H\n",
    "state2, reward, done, info = env.step(action) #I\n",
    "\n",
    "#G Call policy network model to produce predicted action probabilities\n",
    "#H Sample an action from the probability distribution produced by the policy network\n",
    "#I Take the action, receive new state and reward. The info variable is produced by the environment but is irrelevant"
   ]
  },
  {
   "cell_type": "markdown",
   "metadata": {},
   "source": [
    "##### Listing 4.6"
   ]
  },
  {
   "cell_type": "code",
   "execution_count": 6,
   "metadata": {},
   "outputs": [],
   "source": [
    "def discount_rewards(rewards, gamma=0.99):\n",
    "    lenr = len(rewards)\n",
    "    disc_return = torch.pow(gamma,torch.arange(lenr).float()) * rewards #A\n",
    "    disc_return /= disc_return.max() #B\n",
    "    return disc_return\n",
    "\n",
    "#A Compute exponentially decaying rewards\n",
    "#B Normalize the rewards to be within the [0,1] interval to improve numerical stability"
   ]
  },
  {
   "cell_type": "markdown",
   "metadata": {},
   "source": [
    "##### Listing 4.7"
   ]
  },
  {
   "cell_type": "code",
   "execution_count": 7,
   "metadata": {},
   "outputs": [],
   "source": [
    "def loss_fn(preds, r): #A\n",
    "    return -1 * torch.sum(r * torch.log(preds)) #B\n",
    "\n",
    "#A The loss function expects an array of action probabilities for the actions that were taken and the discounted rewards.\n",
    "#B It computes the log of the probabilities, multiplies by the discounted rewards, sums them all and flips the sign."
   ]
  },
  {
   "cell_type": "markdown",
   "metadata": {},
   "source": [
    "##### Listing 4.8"
   ]
  },
  {
   "cell_type": "code",
   "execution_count": 8,
   "metadata": {},
   "outputs": [
    {
     "name": "stderr",
     "output_type": "stream",
     "text": [
      "C:\\Users\\20613\\AppData\\Local\\Temp/ipykernel_20136/1751697203.py:24: UserWarning: Creating a tensor from a list of numpy.ndarrays is extremely slow. Please consider converting the list to a single numpy.ndarray with numpy.array() before converting to a tensor. (Triggered internally at  ..\\torch\\csrc\\utils\\tensor_new.cpp:201.)\n",
      "  state_batch = torch.Tensor([s for (s,a,r) in transitions]) #L\n"
     ]
    }
   ],
   "source": [
    "MAX_DUR = 200\n",
    "MAX_EPISODES = 500\n",
    "gamma = 0.99\n",
    "score = [] #A\n",
    "expectation = 0.0\n",
    "for episode in range(MAX_EPISODES):\n",
    "    curr_state = env.reset()\n",
    "    done = False\n",
    "    transitions = [] #B\n",
    "    \n",
    "    for t in range(MAX_DUR): #C\n",
    "        act_prob = model(torch.from_numpy(curr_state).float()) #D\n",
    "        action = np.random.choice(np.array([0,1]), p=act_prob.data.numpy()) #E\n",
    "        prev_state = curr_state\n",
    "        curr_state, _, done, info = env.step(action) #F\n",
    "        transitions.append((prev_state, action, t+1)) #G\n",
    "        if done: #H\n",
    "            break\n",
    "\n",
    "    ep_len = len(transitions) #I\n",
    "    score.append(ep_len)\n",
    "    reward_batch = torch.Tensor([r for (s,a,r) in transitions]).flip(dims=(0,)) #J\n",
    "    disc_returns = discount_rewards(reward_batch) #K\n",
    "    state_batch = torch.Tensor([s for (s,a,r) in transitions]) #L\n",
    "    action_batch = torch.Tensor([a for (s,a,r) in transitions]) #M\n",
    "    pred_batch = model(state_batch) #N\n",
    "    prob_batch = pred_batch.gather(dim=1,index=action_batch.long().view(-1,1)).squeeze() #O\n",
    "    loss = loss_fn(prob_batch, disc_returns)\n",
    "    optimizer.zero_grad()\n",
    "    loss.backward()\n",
    "    optimizer.step()\n",
    "\n",
    "#A List to keep track of the episode length over training time\n",
    "#B List of state, action, rewards (but we ignore the reward)\n",
    "#C While in episode\n",
    "#D Get the action probabilities\n",
    "#E Select an action stochastically\n",
    "#F Take the action in the environment\n",
    "#G Store this transition\n",
    "#H If game is lost, break out of the loop\n",
    "#I Store the episode length\n",
    "#J Collect all the rewards in the episode in a single tensor\n",
    "#K Compute the discounted version of the rewards\n",
    "#L Collect the states in the episode in a single tensor\n",
    "#M Collect the actions in the episode in a single tensor\n",
    "#N Re-compute the action probabilities for all the states in the episode\n",
    "#O Subset the action-probabilities associated with the actions that were actually taken "
   ]
  },
  {
   "cell_type": "code",
   "execution_count": 9,
   "metadata": {},
   "outputs": [],
   "source": [
    "score = np.array(score)\n",
    "avg_score = running_mean(score, 50)"
   ]
  },
  {
   "cell_type": "code",
   "execution_count": 10,
   "metadata": {},
   "outputs": [
    {
     "data": {
      "text/plain": [
       "[<matplotlib.lines.Line2D at 0x200093206a0>]"
      ]
     },
     "execution_count": 10,
     "metadata": {},
     "output_type": "execute_result"
    },
    {
     "data": {
      "image/png": "[encoded data removed]",
      "text/plain": [
       "<Figure size 720x504 with 1 Axes>"
      ]
     },
     "metadata": {
      "needs_background": "light"
     },
     "output_type": "display_data"
    }
   ],
   "source": [
    "plt.figure(figsize=(10,7))\n",
    "plt.ylabel(\"Episode Duration\",fontsize=22)\n",
    "plt.xlabel(\"Training Epochs\",fontsize=22)\n",
    "plt.plot(avg_score, color='green')"
   ]
  },
  {
   "cell_type": "markdown",
   "metadata": {},
   "source": [
    "##### Listing 4.9"
   ]
  },
  {
   "cell_type": "code",
   "execution_count": 11,
   "metadata": {},
   "outputs": [],
   "source": [
    "score = []\n",
    "games = 100\n",
    "done = False\n",
    "state1 = env.reset()\n",
    "for i in range(games):\n",
    "    t=0\n",
    "    while not done: #F\n",
    "        pred = model(torch.from_numpy(state1).float()) #G\n",
    "        action = np.random.choice(np.array([0,1]), p=pred.data.numpy()) #H\n",
    "        state2, reward, done, info = env.step(action) #I\n",
    "        state1 = state2 \n",
    "        t += 1\n",
    "        if t > MAX_DUR: #L\n",
    "            break;\n",
    "    state1 = env.reset()\n",
    "    done = False\n",
    "    score.append(t)\n",
    "score = np.array(score)"
   ]
  },
  {
   "cell_type": "code",
   "execution_count": 12,
   "metadata": {},
   "outputs": [
    {
     "data": {
      "text/plain": [
       "<matplotlib.collections.PathCollection at 0x200094991c0>"
      ]
     },
     "execution_count": 12,
     "metadata": {},
     "output_type": "execute_result"
    },
    {
     "data": {
      "image/png": "[encoded data removed]",
      "text/plain": [
       "<Figure size 432x288 with 1 Axes>"
      ]
     },
     "metadata": {
      "needs_background": "light"
     },
     "output_type": "display_data"
    }
   ],
   "source": [
    "plt.scatter(np.arange(score.shape[0]),score)"
   ]
  }
 ],
 "metadata": {
  "kernelspec": {
   "display_name": "Python 3 (ipykernel)",
   "language": "python",
   "name": "python3"
  },
  "language_info": {
   "codemirror_mode": {
    "name": "ipython",
    "version": 3
   },
   "file_extension": ".py",
   "mimetype": "text/x-python",
   "name": "python",
   "nbconvert_exporter": "python",
   "pygments_lexer": "ipython3",
   "version": "3.8.12"
  }
 },
 "nbformat": 4,
 "nbformat_minor": 2
}
