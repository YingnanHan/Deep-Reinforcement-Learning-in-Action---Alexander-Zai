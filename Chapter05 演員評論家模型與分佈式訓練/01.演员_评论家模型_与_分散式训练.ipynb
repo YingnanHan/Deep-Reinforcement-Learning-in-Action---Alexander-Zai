{
  "nbformat": 4,
  "nbformat_minor": 0,
  "metadata": {
    "colab": {
      "name": "Chapter05 演员-评论家模型 与 分散式训练.ipynb",
      "provenance": [],
      "collapsed_sections": []
    },
    "kernelspec": {
      "name": "python3",
      "display_name": "Python 3"
    },
    "language_info": {
      "name": "python"
    }
  },
  "cells": [
    {
      "cell_type": "markdown",
      "source": [
        "5.1 介绍多程序处理"
      ],
      "metadata": {
        "id": "As1EZJpcpeIZ"
      }
    },
    {
      "cell_type": "code",
      "source": [
        "import multiprocessing as mp\n",
        "import numpy as np\n",
        "from multiprocessing import queues\n",
        "from IPython.display import clear_output\n",
        "import torch\n",
        "from torch import nn\n",
        "from torch import optim\n",
        "import numpy as np\n",
        "from torch.nn import functional as F\n",
        "import gym\n",
        "import torch.multiprocessing as mp\n",
        "import matplotlib\n",
        "import matplotlib.pyplot as plt"
      ],
      "metadata": {
        "id": "d3FLgRmApk4m"
      },
      "execution_count": 1,
      "outputs": []
    },
    {
      "cell_type": "code",
      "source": [
        "# def square(x): # 将阵列输入此函式后，会传回个别数字的平方结果\n",
        "#   return np.square(x)"
      ],
      "metadata": {
        "id": "anL-XQK8py7K"
      },
      "execution_count": 2,
      "outputs": []
    },
    {
      "cell_type": "code",
      "source": [
        "# x = np.arange(64) # 生成内有数字序列的阵列\n",
        "# print(x)"
      ],
      "metadata": {
        "id": "LkqYY6GBqCRH"
      },
      "execution_count": 3,
      "outputs": []
    },
    {
      "cell_type": "code",
      "source": [
        "# mp.cpu_count() # 输出CPU的数量，结果因电脑而不同"
      ],
      "metadata": {
        "id": "iICFpmLhqK0u"
      },
      "execution_count": 4,
      "outputs": []
    },
    {
      "cell_type": "code",
      "source": [
        "# pool = mp.Pool(8) # 建立内含8个程序的多程序池(proccessor pool)\n",
        "# squared = pool.map(square,[x[8*i:8*i+8] for i in range(8)]) # 使用多程序池的map()，对阵列中的每一个数字呼叫square(),并将结果存入串列中传回\n",
        "# print(squared)"
      ],
      "metadata": {
        "id": "UdMPCjeNqSUH"
      },
      "execution_count": 5,
      "outputs": []
    },
    {
      "cell_type": "markdown",
      "source": [
        "5.2 用手动方式开启多程序"
      ],
      "metadata": {
        "id": "06FEGciW1LRc"
      }
    },
    {
      "cell_type": "code",
      "source": [
        "# def square(i,x,queue):\n",
        "#   print(\"In proccess {}\".format(i,))\n",
        "#   queue.put(np.square(x)) # 将输出结果存进queue"
      ],
      "metadata": {
        "id": "bV8ecFymrDzf"
      },
      "execution_count": 6,
      "outputs": []
    },
    {
      "cell_type": "code",
      "source": [
        "# proccess = [] # 建立用来存储不同程序的串列\n",
        "# queue = mp.Queue() # 建立多程序处理的queue\n",
        "# x = np.arange(64) # 生成一个数列作为目标数列(内含有0~63的整数)\n",
        "# for i in range(8): # 开启八条程序，并让他们利用square函数分别处理目标数列中的一部分资料\n",
        "#   start_index = 8*i\n",
        "#   proc = mp.Process(target=square,args=(i,x[start_index:start_index+8],queue))\n",
        "#   proc.start()\n",
        "#   proccess.append(proc)\n",
        "\n",
        "# for proc in proccess:\n",
        "#   proc.join() # 待所有程序执行完毕之后，再将结果传回给主执行绪\n",
        "\n",
        "# for proc in proccess:\n",
        "#   proc.terminate() # 终止各个程序\n",
        "\n",
        "# result = []\n",
        "# while not queue.empty():\n",
        "#   result.append(queue.get()) # 将queue内的资料存进results串列，直到资料清空"
      ],
      "metadata": {
        "id": "VCX7yA4k1R-L"
      },
      "execution_count": 7,
      "outputs": []
    },
    {
      "cell_type": "code",
      "source": [
        "# print(result)"
      ],
      "metadata": {
        "id": "z4Xud_gj5DLb"
      },
      "execution_count": 8,
      "outputs": []
    },
    {
      "cell_type": "markdown",
      "source": [
        "5.3 分散式 優勢演員評論家模型"
      ],
      "metadata": {
        "id": "CDHOWic6IdYe"
      }
    },
    {
      "cell_type": "code",
      "source": [
        "# class ActorCritic(nn.Module): # 定義演員評論家模型\n",
        "\n",
        "#   def __init__(self):\n",
        "#     super(ActorCritic,self).__init__()\n",
        "#     self.l1 = nn.Linear(4,25) # 定義模型中各種神經網路的shape\n",
        "#     self.l2 = nn.Linear(25,50)\n",
        "#     self.actor_lin1 = nn.Linear(50,2)\n",
        "#     self.l3 = nn.Linear(50,25)\n",
        "#     self.critic_lin1 = nn.Linear(25,1)\n",
        "  \n",
        "#   def forward(self,x):\n",
        "#     x = F.normalize(x,dim=0) # 正規化輸入資料\n",
        "#     y = self.l1(x)\n",
        "#     y = F.relu(y)\n",
        "#     y = self.l2(y)\n",
        "#     y = F.relu(y)\n",
        "\n",
        "#     a = self.actor_lin1(y)\n",
        "#     actor = F.log_softmax(a,dim=0) # 演員端輸出遊戲中兩種動作的對數化幾率值\n",
        "\n",
        "#     c = self.l3(y.detach()) # 將評論家端的節點分離，在經過relu的處理\n",
        "#     c = F.relu(c)\n",
        "#     c = self.critic_lin1(c)\n",
        "#     critic = torch.tanh(c) # 評論家端輸出一個範圍在-1到+1之間的純量的原因將在稍後說明\n",
        "\n",
        "#     return actor,critic"
      ],
      "metadata": {
        "id": "7J6nmVQHMOBs"
      },
      "execution_count": 9,
      "outputs": []
    },
    {
      "cell_type": "markdown",
      "source": [
        "5.7 執行一場遊戲"
      ],
      "metadata": {
        "id": "3Teyrw55TQXS"
      }
    },
    {
      "cell_type": "code",
      "source": [
        "# def run_episode(worker_env,worker_model):\n",
        "#   state = torch.from_numpy(worker_env.env.state).float() # 將環境的狀態資料從Numpy類型轉化為PyTorch張量\n",
        "#   values,logprobs,rewards = [],[],[] # 建立三個串列，分別用來存儲狀態價值(評論家) 對數化幾率分佈(演員) 以及回饋值\n",
        "#   done = False\n",
        "#   j = 0\n",
        "#   while(done == False): # 除非滿足結束條件，否則遊戲繼續進行\n",
        "#     j += 1 # 記錄執行步數\n",
        "#     policy,value = worker_model(state) # 計算狀態價值以及各種可能動作的對數化幾率\n",
        "#     values.append(value) # 將當前的狀態價值加入列表\n",
        "#     logits = policy.view(-1) # 呼叫view()函式將對數化幾率偏平化成向量\n",
        "#     action_dist = torch.distributions.Categorical(logits=logits) # 创建以参数logits为标准的类别分布\n",
        "#     action = action_dist.sample() # 參考演員所提供的對數化幾率來選擇動作\n",
        "#     logprob_ = policy.view(-1)[action] # 得到所選擇動作的對數化幾率\n",
        "#     logprobs.append(logprob_) # 將所選擇動作的對數化幾率存入列表\n",
        "#     state_,_,done,info = worker_env.step(action.detach().numpy()) # 嘗試執行一下所選擇的動作\n",
        "#     state = torch.from_numpy(state_).float() # 將下一狀態獲取到，並轉化為numpy數組 \n",
        "#     if done : # 如果遊戲結束\n",
        "#       reward = -10 # 如果某一個動作造成遊戲結束，則將回饋值設置為-10，並且重置環境\n",
        "#       worker_env.reset()\n",
        "#     else:\n",
        "#       reward = 1.0 # 如果成功保持倒立擺站立，那麼就加回饋值1\n",
        "#     rewards.append(reward) # 將局部的回饋值添加至列表，用來觀察整體的回饋值變化情況\n",
        "#   return values,logprobs,rewards,len(rewards) # 返回的最後一項是倒立擺保持平衡的時間步數"
      ],
      "metadata": {
        "id": "EjcZ1ZhDTABj"
      },
      "execution_count": 10,
      "outputs": []
    },
    {
      "cell_type": "markdown",
      "source": [
        "5.6 計算並最小化損失"
      ],
      "metadata": {
        "id": "bKMrr3vxZXV9"
      }
    },
    {
      "cell_type": "code",
      "source": [
        "# def update_params(worker_opt,values,logprobs,rewards,clc=0.1,gamma=0.95):\n",
        "#   '''設定一個clc參數來控制演員損失和評論家損失的影響力'''\n",
        "#   rewards = torch.Tensor(rewards).flip(dims=(0,)).view(-1) # 將rewards陣列中的元素順序顛倒，以方便計算折扣回報值陣列\n",
        "#   logprobs = torch.stack(logprobs).flip(dims=(0,)).view(-1) # 將logprobs陣列中的元素順序顛倒，以方便計算折扣回報值陣列\n",
        "#   values = torch.stack(values).flip(dims=(0,)).view(-1) # 將values陣列中的元素順序顛倒，以方便計算折扣回報值陣列\n",
        "\n",
        "#   Returns = []\n",
        "\n",
        "#   ret_ = torch.Tensor([0])\n",
        "#   for r in range(rewards.shape[0]): # 使用順序顛倒的回饋值來計算每一步的回報值，並將結果存入Returns陣列中\n",
        "#     ret_ = rewards[r] + gamma*ret_\n",
        "#     Returns.append(ret_)\n",
        "  \n",
        "#   Returns = torch.stack(Returns).view(-1)\n",
        "#   Returns = F.normalize(Returns,dim=0) # 將Returns陣列中的製作正規化處理\n",
        "\n",
        "#   actor_loss = -1*logprobs*(Returns - values.detach()) # 將value張量的節點從運算圖中分離(用之前講的detach()),並計算演員的損失\n",
        "\n",
        "#   critic_loss = torch.pow(values-Returns,2) # 計算評論家的損失\n",
        "\n",
        "#   loss = actor_loss.sum() + clc*critic_loss.sum() # 將演員的損失與評論家的損失加起來，變成總損失 注意 我們是用clc參數來降低評論家損失的影響\n",
        "\n",
        "#   loss.backward()\n",
        "#   worker_opt.step()\n",
        "#   return actor_loss,critic_loss,len(rewards)"
      ],
      "metadata": {
        "id": "_RUWWOqhZVty"
      },
      "execution_count": 11,
      "outputs": []
    },
    {
      "cell_type": "markdown",
      "source": [
        "5.6 主要訓練迴圈"
      ],
      "metadata": {
        "id": "h8Hl00EnQdGg"
      }
    },
    {
      "cell_type": "code",
      "source": [
        "# def worker(t,worker_model,counter,params):\n",
        "#   worker_env = gym.make(\"CartPole-v1\")\n",
        "#   worker_env.reset()\n",
        "#   worker_opt = optim.Adam(lr=1e-4,params=worker_model.parameters()) # 每條程序有獨立運行的環境和優化器，但共享模型參數\n",
        "#   worker_opt.zero_grad()\n",
        "\n",
        "#   for i in range(params[\"epochs\"]):\n",
        "#     worker_opt.zero_grad()\n",
        "#     values,logprobs,rewards,length = run_episode(worker_env,worker_model) # 呼叫run_episode()來執行一場遊戲並收集資料(該函式的定義見5.7)\n",
        "#     actor_loss,critic_loss,eplen = update_params(worker_opt,values,logprobs,rewards) # 使用所收集的資料來更新神經網路參數(該函式的定義見5.8)\n",
        "    \n",
        "#     counter.value = counter.value + 1 # counter是一個全域計數器，被所有程序共享\n",
        "\n",
        "#     if (i%10==0): # 印出當前的訓練進度\n",
        "#       print(i)\n",
        "#       print(len(rewards))\n",
        "#       clear_output(wait=True)\n",
        "    \n",
        "#     buffer.put(length) # 將遊戲的長度存進buffer中"
      ],
      "metadata": {
        "id": "hXT2eoa-QoX7"
      },
      "execution_count": 12,
      "outputs": []
    },
    {
      "cell_type": "markdown",
      "source": [
        "5.5 分散式訓練"
      ],
      "metadata": {
        "id": "QSWNH5UNeB7L"
      }
    },
    {
      "cell_type": "code",
      "source": [
        "# if __name__ == '__main__':\n",
        "\n",
        "#   MasterNode = ActorCritic() # 建立一個共享全域的演員-評論家模型\n",
        "#   MasterNode.share_memory() # share_memory()允許不同程序共用一組模型參數(無需複製模型節省空間)\n",
        "\n",
        "#   processes = [] # 用來存儲不同程序的實例\n",
        "#   params = {\n",
        "#       'epochs':500, # 進行500次訓練\n",
        "#       'n_workers':7 # 設定程序數目為7\n",
        "#   }\n",
        "\n",
        "#   counter = mp.Value('i',0) # 使用multiproccesing函式庫創建一個全域計數器，參數'i'代表其資料型別為整數\n",
        "  \n",
        "#   buffer = mp.Queue() # 用於記錄每場遊戲的長度\n",
        "\n",
        "#   for i in range(params['n_workers']):\n",
        "#     p = mp.Process(target=worker,args=(i,MasterNode,counter,params)) # 啟動新的程序來運行worker函式(該韓式的定義見5.6)\n",
        "#     p.start()\n",
        "#     processes.append(p)\n",
        "#   for p in processes:\n",
        "#     p.join() # 利用join讓每條程序完乘運算後，再將結果傳回\n",
        "#   for p in processes:\n",
        "#     p.terminate() # 終止各個程序\n",
        "\n",
        "#   # 畫出平均遊戲長度\n",
        "#   n = params[\"n_workers\"]\n",
        "#   score = []\n",
        "#   running_mean = []\n",
        "#   total = torch.Tensor([0])\n",
        "#   mean = torch.Tensor([0])\n",
        "#   while not buffer.empty():\n",
        "#     score.append(buffer.get()) # 將buffer中的資料存入score\n",
        "#   print(len(score))\n",
        "#   for i in range(params['epochs']):\n",
        "#     if (i>=50):\n",
        "#       total = total - sum(score[n*(i-50):n*(i-50)+n])/n\n",
        "#       total = total + sum(score[n*i:n*i+n])/n\n",
        "#       mean = int(total/50)\n",
        "#     else:\n",
        "#       total = total + sum(score[n*i:n*i+n])/n\n",
        "#       mean = int(total/(i+1))\n",
        "#     running_mean.append(mean)\n",
        "#   plt.figure(figsize=(17,12))\n",
        "#   plt.ylabel(\"Mean Episode Length\",fontsize=17)\n",
        "#   plt.xlabel(\"Trainning Epochs\",fontsize=17)\n",
        "#   plt.plot(np.array(running_mean))\n",
        "#   plt.show()"
      ],
      "metadata": {
        "id": "I3YpQ4iORoW6"
      },
      "execution_count": 13,
      "outputs": []
    },
    {
      "cell_type": "markdown",
      "source": [
        "將上面的內容集中到一個單元格里面"
      ],
      "metadata": {
        "id": "0pEEspiytlBQ"
      }
    },
    {
      "cell_type": "code",
      "source": [
        "import torch\n",
        "from torch import nn\n",
        "from torch import optim\n",
        "import numpy as np\n",
        "from torch.nn import functional as F\n",
        "import gym\n",
        "import torch.multiprocessing as mp\n",
        "import matplotlib\n",
        "import matplotlib.pyplot as plt\n",
        "from IPython.display import clear_output\n",
        "\n",
        "class ActorCritic(nn.Module): # 定義演員評論家模型\n",
        "\n",
        "  def __init__(self):\n",
        "    super(ActorCritic,self).__init__()\n",
        "    self.l1 = nn.Linear(4,25) # 定義模型中各種神經網路的shape\n",
        "    self.l2 = nn.Linear(25,50)\n",
        "    self.actor_lin1 = nn.Linear(50,2)\n",
        "    self.l3 = nn.Linear(50,25)\n",
        "    self.critic_lin1 = nn.Linear(25,1)\n",
        "  \n",
        "  def forward(self,x):\n",
        "    x = F.normalize(x,dim=0) # 正規化輸入資料\n",
        "    y = self.l1(x)\n",
        "    y = F.relu(y)\n",
        "    y = self.l2(y)\n",
        "    y = F.relu(y)\n",
        "\n",
        "    a = self.actor_lin1(y)\n",
        "    actor = F.log_softmax(a,dim=0) # 演員端輸出遊戲中兩種動作的對數化幾率值\n",
        "\n",
        "    c = self.l3(y.detach()) # 將評論家端的節點分離，在經過relu的處理\n",
        "    c = F.relu(c)\n",
        "    c = self.critic_lin1(c)\n",
        "    critic = torch.tanh(c) # 評論家端輸出一個範圍在-1到+1之間的純量的原因將在稍後說明\n",
        "\n",
        "    return actor,critic\n",
        "\n",
        "def run_episode(worker_env,worker_model):\n",
        "  state = torch.from_numpy(worker_env.env.state).float() # 將環境的狀態資料從Numpy類型轉化為PyTorch張量\n",
        "  values,logprobs,rewards = [],[],[] # 建立三個串列，分別用來存儲狀態價值(評論家) 對數化幾率分佈(演員) 以及回饋值\n",
        "  done = False\n",
        "  j = 0\n",
        "  while(done == False): # 除非滿足結束條件，否則遊戲繼續進行\n",
        "    j += 1 # 記錄執行步數\n",
        "    policy,value = worker_model(state) # 計算狀態價值以及各種可能動作的對數化幾率\n",
        "    values.append(value) # 將當前的狀態價值加入列表\n",
        "    logits = policy.view(-1) # 呼叫view()函式將對數化幾率偏平化成向量\n",
        "    action_dist = torch.distributions.Categorical(logits=logits) # 创建以参数logits为标准的类别分布\n",
        "    action = action_dist.sample() # 參考演員所提供的對數化幾率來選擇動作\n",
        "    logprob_ = policy.view(-1)[action] # 得到所選擇動作的對數化幾率\n",
        "    logprobs.append(logprob_) # 將所選擇動作的對數化幾率存入列表\n",
        "    state_,_,done,info = worker_env.step(action.detach().numpy()) # 嘗試執行一下所選擇的動作\n",
        "    state = torch.from_numpy(state_).float() # 將下一狀態獲取到，並轉化為numpy數組 \n",
        "    if done : # 如果遊戲結束\n",
        "      reward = -10 # 如果某一個動作造成遊戲結束，則將回饋值設置為-10，並且重置環境\n",
        "      worker_env.reset()\n",
        "    else:\n",
        "      reward = 1.0 # 如果成功保持倒立擺站立，那麼就加回饋值1\n",
        "    rewards.append(reward) # 將局部的回饋值添加至列表，用來觀察整體的回饋值變化情況\n",
        "  return values,logprobs,rewards,len(rewards) # 返回的最後一項是倒立擺保持平衡的時間步數\n",
        "\n",
        "\n",
        "def update_params(worker_opt,values,logprobs,rewards,clc=0.1,gamma=0.95):\n",
        "  '''設定一個clc參數來控制演員損失和評論家損失的影響力'''\n",
        "  rewards = torch.Tensor(rewards).flip(dims=(0,)).view(-1) # 將rewards陣列中的元素順序顛倒，以方便計算折扣回報值陣列\n",
        "  logprobs = torch.stack(logprobs).flip(dims=(0,)).view(-1) # 將logprobs陣列中的元素順序顛倒，以方便計算折扣回報值陣列\n",
        "  values = torch.stack(values).flip(dims=(0,)).view(-1) # 將values陣列中的元素順序顛倒，以方便計算折扣回報值陣列\n",
        "\n",
        "  Returns = []\n",
        "\n",
        "  ret_ = torch.Tensor([0])\n",
        "  for r in range(rewards.shape[0]): # 使用順序顛倒的回饋值來計算每一步的回報值，並將結果存入Returns陣列中\n",
        "    ret_ = rewards[r] + gamma*ret_\n",
        "    Returns.append(ret_)\n",
        "  \n",
        "  Returns = torch.stack(Returns).view(-1)\n",
        "  Returns = F.normalize(Returns,dim=0) # 將Returns陣列中的製作正規化處理\n",
        "\n",
        "  actor_loss = -1*logprobs*(Returns - values.detach()) # 將value張量的節點從運算圖中分離(用之前講的detach()),並計算演員的損失\n",
        "\n",
        "  critic_loss = torch.pow(values-Returns,2) # 計算評論家的損失\n",
        "\n",
        "  loss = actor_loss.sum() + clc*critic_loss.sum() # 將演員的損失與評論家的損失加起來，變成總損失 注意 我們是用clc參數來降低評論家損失的影響\n",
        "\n",
        "  loss.backward()\n",
        "  worker_opt.step()\n",
        "  return actor_loss,critic_loss,len(rewards)\n",
        "\n",
        "\n",
        "def worker(t,worker_model,counter,params):\n",
        "  worker_env = gym.make(\"CartPole-v1\")\n",
        "  worker_env.reset()\n",
        "  worker_opt = optim.Adam(lr=1e-4,params=worker_model.parameters()) # 每條程序有獨立運行的環境和優化器，但共享模型參數\n",
        "  worker_opt.zero_grad()\n",
        "\n",
        "  for i in range(params[\"epochs\"]):\n",
        "    worker_opt.zero_grad()\n",
        "    values,logprobs,rewards,length = run_episode(worker_env,worker_model) # 呼叫run_episode()來執行一場遊戲並收集資料(該函式的定義見5.7)\n",
        "    actor_loss,critic_loss,eplen = update_params(worker_opt,values,logprobs,rewards) # 使用所收集的資料來更新神經網路參數(該函式的定義見5.8)\n",
        "    \n",
        "    counter.value = counter.value + 1 # counter是一個全域計數器，被所有程序共享\n",
        "\n",
        "    if (i%10==0): # 印出當前的訓練進度\n",
        "      print(i)\n",
        "      print(len(rewards))\n",
        "      clear_output(wait=True)\n",
        "    \n",
        "    buffer.put(length) # 將遊戲的長度存進buffer中\n",
        "\n",
        "\n",
        "if __name__ == '__main__':\n",
        "\n",
        "  MasterNode = ActorCritic() # 建立一個共享全域的演員-評論家模型\n",
        "  MasterNode.share_memory() # share_memory()允許不同程序共用一組模型參數(無需複製模型節省空間)\n",
        "\n",
        "  processes = [] # 用來存儲不同程序的實例\n",
        "  params = {\n",
        "      'epochs':500, # 進行500次訓練\n",
        "      'n_workers':7 # 設定程序數目為7\n",
        "  }\n",
        "\n",
        "  counter = mp.Value('i',0) # 使用multiproccesing函式庫創建一個全域計數器，參數'i'代表其資料型別為整數\n",
        "  \n",
        "  buffer = mp.Queue() # 用於記錄每場遊戲的長度\n",
        "\n",
        "  for i in range(params['n_workers']):\n",
        "    p = mp.Process(target=worker,args=(i,MasterNode,counter,params)) # 啟動新的程序來運行worker函式(該韓式的定義見5.6)\n",
        "    p.start()\n",
        "    processes.append(p)\n",
        "  for p in processes:\n",
        "    p.join() # 利用join讓每條程序完乘運算後，再將結果傳回\n",
        "  for p in processes:\n",
        "    p.terminate() # 終止各個程序\n",
        "\n",
        "  # 畫出平均遊戲長度\n",
        "  n = params[\"n_workers\"]\n",
        "  score = []\n",
        "  running_mean = []\n",
        "  total = torch.Tensor([0])\n",
        "  mean = torch.Tensor([0])\n",
        "  while not buffer.empty():\n",
        "    score.append(buffer.get()) # 將buffer中的資料存入score\n",
        "  print(len(score))\n",
        "  for i in range(params['epochs']):\n",
        "    if (i>=50):\n",
        "      total = total - sum(score[n*(i-50):n*(i-50)+n])/n\n",
        "      total = total + sum(score[n*i:n*i+n])/n\n",
        "      mean = int(total/50)\n",
        "    else:\n",
        "      total = total + sum(score[n*i:n*i+n])/n\n",
        "      mean = int(total/(i+1))\n",
        "    running_mean.append(mean)\n",
        "  plt.figure(figsize=(17,12))\n",
        "  plt.ylabel(\"Mean Episode Length\",fontsize=17)\n",
        "  plt.xlabel(\"Trainning Epochs\",fontsize=17)\n",
        "  plt.plot(np.array(running_mean))\n",
        "  plt.show()"
      ],
      "metadata": {
        "colab": {
          "base_uri": "https://localhost:8080/",
          "height": 740
        },
        "id": "reuCd7kMvGK1",
        "outputId": "940109b7-1234-4989-e1ed-472a45beb672"
      },
      "execution_count": 14,
      "outputs": [
        {
          "output_type": "stream",
          "name": "stdout",
          "text": [
            "3500\n"
          ]
        },
        {
          "output_type": "display_data",
          "data": {
            "image/png": "[encoded data removed]",
            "text/plain": [
              "<Figure size 1224x864 with 1 Axes>"
            ]
          },
          "metadata": {
            "needs_background": "light"
          }
        }
      ]
    },
    {
      "cell_type": "markdown",
      "source": [
        "5.9 N步 演员-评论家算法"
      ],
      "metadata": {
        "id": "tL4aKhWXUnb2"
      }
    },
    {
      "cell_type": "code",
      "source": [
        "# class ActorCritic(nn.Module): # 定義演員評論家模型\n",
        "\n",
        "#   def __init__(self):\n",
        "#     super(ActorCritic,self).__init__()\n",
        "#     self.l1 = nn.Linear(4,25) # 定義模型中各種神經網路的shape\n",
        "#     self.l2 = nn.Linear(25,50)\n",
        "#     self.actor_lin1 = nn.Linear(50,2)\n",
        "#     self.l3 = nn.Linear(50,25)\n",
        "#     self.critic_lin1 = nn.Linear(25,1)\n",
        "  \n",
        "#   def forward(self,x):\n",
        "#     x = F.normalize(x,dim=0) # 正規化輸入資料\n",
        "#     y = self.l1(x)\n",
        "#     y = F.relu(y)\n",
        "#     y = self.l2(y)\n",
        "#     y = F.relu(y)\n",
        "\n",
        "#     a = self.actor_lin1(y)\n",
        "#     actor = F.log_softmax(a,dim=0) # 演員端輸出遊戲中兩種動作的對數化幾率值\n",
        "\n",
        "#     c = self.l3(y.detach()) # 將評論家端的節點分離，在經過relu的處理\n",
        "#     c = F.relu(c)\n",
        "#     c = self.critic_lin1(c)\n",
        "#     critic = torch.tanh(c) # 評論家端輸出一個範圍在-1到+1之間的純量的原因將在稍後說明\n",
        "\n",
        "#     return actor,critic"
      ],
      "metadata": {
        "id": "2sFeg8Maj_4T"
      },
      "execution_count": 15,
      "outputs": []
    },
    {
      "cell_type": "code",
      "source": [
        "# def update_params(worker_opt,values,logprobs,rewards,G,clc=0.1,gamma=0.95):\n",
        "#   rewards = torch.Tensor(rewards).flip(dims=(0,)).view(-1)\n",
        "#   logprobs = torch.stack(logprobs).flip(dims=(0,)).view(-1)\n",
        "#   values = torch.stack(values).flip(dims=(0,)).view(-1)\n",
        "#   Returns = []\n",
        "#   ret_ = G # 使用G來代替原本的torch.Tensor([0])\n",
        "#   for r in range(rewards.shape[0]):\n",
        "#     ret_ = rewards[r] + gamma * ret_\n",
        "#     Returns.append(ret_)\n",
        "#   Returns = torch.stack(Returns).view(-1)\n",
        "#   Returns = F.normalize(Returns,dim=0)\n",
        "#   actor_loss = -1*logprobs*(Returns-values.detach())\n",
        "#   critic_loss = torch.pow(values-Returns,2)\n",
        "#   loss = actor_loss.sum() + clc*critic_loss.sum()\n",
        "#   loss.backward()\n",
        "#   worker_opt.step()\n",
        "#   return actor_loss,critic_loss,len(rewards)"
      ],
      "metadata": {
        "id": "JoyerJoKgbx8"
      },
      "execution_count": 16,
      "outputs": []
    },
    {
      "cell_type": "code",
      "source": [
        "# def run_episode(worker_env,worker_model,N_steps=100):\n",
        "#   raw_state = np.array(worker_env.env.state)\n",
        "#   state = torch.from_numpy(raw_state).float()\n",
        "#   values,logprobs,rewards = [],[],[]\n",
        "#   done = False\n",
        "#   j = 0\n",
        "#   check = 1\n",
        "#   G = torch.Tensor([0]) # 變數G代表回報值，有它的初始值為0\n",
        "#   while(j<N_steps and done == False): # 持續進行遊戲，直到經過了N步或者遊戲結束\n",
        "#     j += 1\n",
        "#     policy,value = worker_model(state)\n",
        "#     values.append(value)\n",
        "#     logits = policy.view(-1)\n",
        "#     action_dist = torch.distributions.Categorical(logits=logits)\n",
        "#     action = action_dist.sample()\n",
        "#     logprob_ = policy.view(-1)[action]\n",
        "#     logprobs.append(logprob_)\n",
        "#     state_,_,done,info = worker_env.step(action.detach().numpy())\n",
        "#     state = torch.from_numpy(state_).float()\n",
        "#     if done:\n",
        "#       reward = -10\n",
        "#       worker_env.reset()\n",
        "#       check = 1\n",
        "#     else: # 若遊戲並未結束，令回報值等於最新的狀態價值\n",
        "#       reward = 1.0\n",
        "#       G = value.detach()\n",
        "#       check = 0\n",
        "#     rewards.append(reward)\n",
        "#   return values,logprobs,rewards,G,check"
      ],
      "metadata": {
        "id": "GGcY_7kSbdyF"
      },
      "execution_count": 17,
      "outputs": []
    },
    {
      "cell_type": "code",
      "source": [
        "# def worker(t,worker_model,counter,params,buffer):\n",
        "#   worker_env = gym.make(\"CartPole-v1\")\n",
        "#   worker_env.reset()\n",
        "#   worker_opt = optim.Adam(lr=1e-4,params=worker_model.parameters())\n",
        "#   worker_opt.zero_grad()\n",
        "#   tot_rew = torch.Tensor([0])\n",
        "#   for i in range(params['epochs']):\n",
        "#     worker_opt.zero_grad()\n",
        "#     values, logprobs, rewards, G, check = run_episode(worker_env,worker_model)\n",
        "#     actor_loss,critic_loss,tot_rew = update_params(worker_opt,values,logprobs,rewards,G)\n",
        "#     while(check == 0):\n",
        "#       worker_opt.zero_grad()\n",
        "#       values, logprobs, rewards, G, check = run_episode(worker_env,worker_model)\n",
        "#       actor_loss,critic_loss,eplen = update_params(worker_opt,values,logprobs,rewards,G)\n",
        "#       tot_rew += eplen\n",
        "#     counter.value = counter.value + 1\n",
        "#     if (i%10 == 0):\n",
        "#       print(i)\n",
        "#       print(tot_rew)\n",
        "#       clear_output(wait=True)\n",
        "#     buffer.put(tot_rew)"
      ],
      "metadata": {
        "id": "yxGGPNcxfaJy"
      },
      "execution_count": 18,
      "outputs": []
    },
    {
      "cell_type": "code",
      "source": [
        "# if __name__ == '__main__':\n",
        "\n",
        "#   MasterNode = ActorCritic() # 建立一個共享全域的演員-評論家模型\n",
        "#   MasterNode.share_memory() # share_memory()允許不同程序共用一組模型參數(無需複製模型節省空間)\n",
        "\n",
        "#   processes = [] # 用來存儲不同程序的實例\n",
        "#   params = {\n",
        "#       'epochs':500, # 進行500次訓練\n",
        "#       'n_workers':7 # 設定程序數目為7\n",
        "#   }\n",
        "\n",
        "#   counter = mp.Value('i',0) # 使用multiproccesing函式庫創建一個全域計數器，參數'i'代表其資料型別為整數\n",
        "  \n",
        "#   buffer = mp.Queue() # 用於記錄每場遊戲的長度\n",
        "\n",
        "#   for i in range(params['n_workers']):\n",
        "#     p = mp.Process(target=worker,args=(i,MasterNode,counter,params,buffer)) # 啟動新的程序來運行worker函式(該韓式的定義見5.6)\n",
        "#     p.start()\n",
        "#     processes.append(p)\n",
        "#   for p in processes:\n",
        "#     p.join() # 利用join讓每條程序完乘運算後，再將結果傳回\n",
        "#   for p in processes:\n",
        "#     p.terminate() # 終止各個程序\n",
        "\n",
        "#   # 畫出平均遊戲長度\n",
        "#   n = params[\"n_workers\"]\n",
        "#   score = []\n",
        "#   running_mean = []\n",
        "#   total = torch.Tensor([0])\n",
        "#   mean = torch.Tensor([0])\n",
        "#   while not buffer.empty():\n",
        "#     score.append(buffer.get()) # 將buffer中的資料存入score\n",
        "#   print(len(score))\n",
        "#   for i in range(params['epochs']):\n",
        "#     if (i>=50):\n",
        "#       total = total - sum(score[n*(i-50):n*(i-50)+n])/n\n",
        "#       total = total + sum(score[n*i:n*i+n])/n\n",
        "#       mean = int(total/50)\n",
        "#     else:\n",
        "#       total = total + sum(score[n*i:n*i+n])/n\n",
        "#       mean = int(total/(i+1))\n",
        "#     running_mean.append(mean)\n",
        "#   plt.figure(figsize=(17,12))\n",
        "#   plt.ylabel(\"Mean Episode Length\",fontsize=17)\n",
        "#   plt.xlabel(\"Trainning Epochs\",fontsize=17)\n",
        "#   plt.plot(np.array(running_mean))\n",
        "#   plt.show()"
      ],
      "metadata": {
        "id": "D257T3WcjfaK"
      },
      "execution_count": 19,
      "outputs": []
    },
    {
      "cell_type": "markdown",
      "source": [
        "將上面的內容集中到一個單元格里面"
      ],
      "metadata": {
        "id": "4qZ_TwezP0NZ"
      }
    },
    {
      "cell_type": "code",
      "source": [
        "class ActorCritic(nn.Module): # 定義演員評論家模型\n",
        "\n",
        "  def __init__(self):\n",
        "    super(ActorCritic,self).__init__()\n",
        "    self.l1 = nn.Linear(4,25) # 定義模型中各種神經網路的shape\n",
        "    self.l2 = nn.Linear(25,50)\n",
        "    self.actor_lin1 = nn.Linear(50,2)\n",
        "    self.l3 = nn.Linear(50,25)\n",
        "    self.critic_lin1 = nn.Linear(25,1)\n",
        "  \n",
        "  def forward(self,x):\n",
        "    x = F.normalize(x,dim=0) # 正規化輸入資料\n",
        "    y = self.l1(x)\n",
        "    y = F.relu(y)\n",
        "    y = self.l2(y)\n",
        "    y = F.relu(y)\n",
        "\n",
        "    a = self.actor_lin1(y)\n",
        "    actor = F.log_softmax(a,dim=0) # 演員端輸出遊戲中兩種動作的對數化幾率值\n",
        "\n",
        "    c = self.l3(y.detach()) # 將評論家端的節點分離，在經過relu的處理\n",
        "    c = F.relu(c)\n",
        "    c = self.critic_lin1(c)\n",
        "    critic = torch.tanh(c) # 評論家端輸出一個範圍在-1到+1之間的純量的原因將在稍後說明\n",
        "\n",
        "    return actor,critic\n",
        "\n",
        "def update_params(worker_opt,values,logprobs,rewards,G,clc=0.1,gamma=0.95):\n",
        "  rewards = torch.Tensor(rewards).flip(dims=(0,)).view(-1)\n",
        "  logprobs = torch.stack(logprobs).flip(dims=(0,)).view(-1)\n",
        "  values = torch.stack(values).flip(dims=(0,)).view(-1)\n",
        "  Returns = []\n",
        "  ret_ = G # 使用G來代替原本的torch.Tensor([0])\n",
        "  for r in range(rewards.shape[0]):\n",
        "    ret_ = rewards[r] + gamma * ret_\n",
        "    Returns.append(ret_)\n",
        "  Returns = torch.stack(Returns).view(-1)\n",
        "  Returns = F.normalize(Returns,dim=0)\n",
        "  actor_loss = -1*logprobs*(Returns-values.detach())\n",
        "  critic_loss = torch.pow(values-Returns,2)\n",
        "  loss = actor_loss.sum() + clc*critic_loss.sum()\n",
        "  loss.backward()\n",
        "  worker_opt.step()\n",
        "  return actor_loss,critic_loss,len(rewards)\n",
        "\n",
        "def run_episode(worker_env,worker_model,N_steps=100):\n",
        "  raw_state = np.array(worker_env.env.state)\n",
        "  state = torch.from_numpy(raw_state).float()\n",
        "  values,logprobs,rewards = [],[],[]\n",
        "  done = False\n",
        "  j = 0\n",
        "  check = 1\n",
        "  G = torch.Tensor([0]) # 變數G代表回報值，有它的初始值為0\n",
        "  while(j<N_steps and done == False): # 持續進行遊戲，直到經過了N步或者遊戲結束\n",
        "    j += 1\n",
        "    policy,value = worker_model(state)\n",
        "    values.append(value)\n",
        "    logits = policy.view(-1)\n",
        "    action_dist = torch.distributions.Categorical(logits=logits)\n",
        "    action = action_dist.sample()\n",
        "    logprob_ = policy.view(-1)[action]\n",
        "    logprobs.append(logprob_)\n",
        "    state_,_,done,info = worker_env.step(action.detach().numpy())\n",
        "    state = torch.from_numpy(state_).float()\n",
        "    if done:\n",
        "      reward = -10\n",
        "      worker_env.reset()\n",
        "      check = 1\n",
        "    else: # 若遊戲並未結束，令回報值等於最新的狀態價值\n",
        "      reward = 1.0\n",
        "      G = value.detach()\n",
        "      check = 0\n",
        "    rewards.append(reward)\n",
        "  return values,logprobs,rewards,G,check\n",
        "\n",
        "\n",
        "def worker(t,worker_model,counter,params,buffer):\n",
        "  worker_env = gym.make(\"CartPole-v1\")\n",
        "  worker_env.reset()\n",
        "  worker_opt = optim.Adam(lr=1e-4,params=worker_model.parameters())\n",
        "  worker_opt.zero_grad()\n",
        "  tot_rew = torch.Tensor([0])\n",
        "  for i in range(params['epochs']):\n",
        "    worker_opt.zero_grad()\n",
        "    values, logprobs, rewards, G, check = run_episode(worker_env,worker_model)\n",
        "    actor_loss,critic_loss,tot_rew = update_params(worker_opt,values,logprobs,rewards,G)\n",
        "    while(check == 0):\n",
        "      worker_opt.zero_grad()\n",
        "      values, logprobs, rewards, G, check = run_episode(worker_env,worker_model)\n",
        "      actor_loss,critic_loss,eplen = update_params(worker_opt,values,logprobs,rewards,G)\n",
        "      tot_rew += eplen\n",
        "    counter.value = counter.value + 1\n",
        "    if (i%10 == 0):\n",
        "      print(i)\n",
        "      print(tot_rew)\n",
        "      clear_output(wait=True)\n",
        "    buffer.put(tot_rew)\n",
        "\n",
        "\n",
        "if __name__ == '__main__':\n",
        "\n",
        "  MasterNode = ActorCritic() # 建立一個共享全域的演員-評論家模型\n",
        "  MasterNode.share_memory() # share_memory()允許不同程序共用一組模型參數(無需複製模型節省空間)\n",
        "\n",
        "  processes = [] # 用來存儲不同程序的實例\n",
        "  params = {\n",
        "      'epochs':500, # 進行500次訓練\n",
        "      'n_workers':7 # 設定程序數目為7\n",
        "  }\n",
        "\n",
        "  counter = mp.Value('i',0) # 使用multiproccesing函式庫創建一個全域計數器，參數'i'代表其資料型別為整數\n",
        "  \n",
        "  buffer = mp.Queue() # 用於記錄每場遊戲的長度\n",
        "\n",
        "  for i in range(params['n_workers']):\n",
        "    p = mp.Process(target=worker,args=(i,MasterNode,counter,params,buffer)) # 啟動新的程序來運行worker函式(該韓式的定義見5.6)\n",
        "    p.start()\n",
        "    processes.append(p)\n",
        "  for p in processes:\n",
        "    p.join() # 利用join讓每條程序完乘運算後，再將結果傳回\n",
        "  for p in processes:\n",
        "    p.terminate() # 終止各個程序\n",
        "\n",
        "  # 畫出平均遊戲長度\n",
        "  n = params[\"n_workers\"]\n",
        "  score = []\n",
        "  running_mean = []\n",
        "  total = torch.Tensor([0])\n",
        "  mean = torch.Tensor([0])\n",
        "  while not buffer.empty():\n",
        "    score.append(buffer.get()) # 將buffer中的資料存入score\n",
        "  print(len(score))\n",
        "  for i in range(params['epochs']):\n",
        "    if (i>=50):\n",
        "      total = total - sum(score[n*(i-50):n*(i-50)+n])/n\n",
        "      total = total + sum(score[n*i:n*i+n])/n\n",
        "      mean = int(total/50)\n",
        "    else:\n",
        "      total = total + sum(score[n*i:n*i+n])/n\n",
        "      mean = int(total/(i+1))\n",
        "    running_mean.append(mean)\n",
        "  plt.figure(figsize=(17,12))\n",
        "  plt.ylabel(\"Mean Episode Length\",fontsize=17)\n",
        "  plt.xlabel(\"Trainning Epochs\",fontsize=17)\n",
        "  plt.plot(np.array(running_mean))\n",
        "  plt.show()"
      ],
      "metadata": {
        "colab": {
          "base_uri": "https://localhost:8080/",
          "height": 740
        },
        "id": "UszrXqhfPzN8",
        "outputId": "52fa0881-be8d-4ef5-d663-dbd63e281f3d"
      },
      "execution_count": 20,
      "outputs": [
        {
          "output_type": "stream",
          "name": "stdout",
          "text": [
            "3500\n"
          ]
        },
        {
          "output_type": "display_data",
          "data": {
            "image/png": "[encoded data removed]",
            "text/plain": [
              "<Figure size 1224x864 with 1 Axes>"
            ]
          },
          "metadata": {
            "needs_background": "light"
          }
        }
      ]
    }
  ]
}